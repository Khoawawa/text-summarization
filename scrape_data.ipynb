{
 "cells": [
  {
   "cell_type": "code",
   "execution_count": 17,
   "metadata": {},
   "outputs": [],
   "source": [
    "import requests\n",
    "from bs4 import BeautifulSoup\n",
    "import regex\n",
    "\n",
    "def scrape_cnn_article(url):\n",
    "    response = requests.get(url)\n",
    "    \n",
    "    if response.status_code == 200:\n",
    "        soup = BeautifulSoup(response.content, \"html.parser\")\n",
    "        \n",
    "        # For CNN articles\n",
    "        if \"cnn.com\" in url:\n",
    "            title = soup.find('h1').get_text()\n",
    "            article_body = soup.find_all('p', class_=\"paragraph inline-placeholder vossi-paragraph\")\n",
    "            content = \" \".join([p.get_text() for p in article_body])       \n",
    "            return title, content\n",
    "        else:\n",
    "            return None,None\n",
    "    \n",
    "    else:\n",
    "        print(f\"Failed to retrieve the article. Status code: {response.status_code}\")\n",
    "        return None, None"
   ]
  },
  {
   "cell_type": "code",
   "execution_count": 18,
   "metadata": {},
   "outputs": [],
   "source": [
    "title, content = scrape_cnn_article(\"https://edition.cnn.com/2024/10/20/politics/mcdonalds-donald-trump-pennsylvania/index.html\")"
   ]
  },
  {
   "cell_type": "code",
   "execution_count": 19,
   "metadata": {},
   "outputs": [],
   "source": [
    "import uuid\n",
    "data = {\n",
    "    'title': title,\n",
    "    'article': content,\n",
    "}"
   ]
  },
  {
   "cell_type": "code",
   "execution_count": 20,
   "metadata": {},
   "outputs": [
    {
     "name": "stdout",
     "output_type": "stream",
     "text": [
      "\n",
      "Donald Trump is pulling one of the most iconic American companies — McDonald’s — into the political arena in the final days of his third White House bid.\n",
      "     \n",
      "            The former president stopped by one of the fast-food chain’s Pennsylvania franchises during his Sunday swing through the Keystone State, where he swapped his suit jacket for an apron to work as a fry attendant. He later handed customers food through the drive-thru window at the restaurant — which was closed for the event — telling them he had made it himself and that it was all on him.\n",
      "     \n",
      "            Manning the fry machine is the same job Vice President Kamala Harris has said she held as a young woman, a biographical detail revealed during her first campaign for president. It has since become a centerpiece of the middle-class origin story she has made key to her pitch to voters as the Democratic Party’s presidential nominee.\n",
      "     \n",
      "            Trump, whose deep affection for the Golden Arches and its offerings is well documented, has meanwhile grown fixated on Harris’ employment there. In interviews and on the campaign trail, he regularly accuses Harris – without evidence – of making up the factoid. His visit to the restaurant is his latest attempt to sow doubt about the Democrat’s work history.\n",
      "     \n",
      "            “I’m looking for a job,” Trump said to the owner of the McDonald’s in Feasterville-Trevose on Sunday. “And I’ve always wanted to work at McDonald’s, but I never did. I’m running against somebody that said she did, but it turned out to be a totally phony story.”\n",
      "     \n",
      "            Harris has largely ignored Trump, as well as calls from his supporters and inquiries from conservative news outlets to provide proof of her time there. Her campaign didn’t respond to a request for comment about Trump’s accusation and his upcoming visit to McDonald’s.\n",
      "     \n",
      "            A campaign official told CNN that Harris worked at a McDonald’s in Alameda, California, during the summer of 1983 when she was still a student at Howard University in Washington. She worked the register and manned the fry and ice cream machines, according to the official.\n",
      "     \n",
      "            On Drew Barrymore’s talk show earlier this year, Harris told the actor, “I did fries. And then I did the cashier.” And as a presidential candidate in 2019, Harris mentioned her work at the fast-food chain while joining striking McDonald’s workers on the picket line.\n",
      "     \n",
      "            Her time there was repeatedly referenced onstage at this summer’s Democratic National Convention as her allies contrasted her upbringing with Trump’s upper-class roots. Former President Bill Clinton joked that Harris would “break my record as the president who has spent the most time at McDonald’s.” Texas Rep. Jasmine Crockett asserted that “one candidate worked at McDonald’s,” while “the other was born with a silver spoon in his mouth.”\n",
      "     \n",
      "            “Can you simply picture Donald Trump working at a McDonald’s?” said Harris’ running mate, Minnesota Gov. Tim Walz. “He couldn’t run that damn McFlurry machine if it cost him anything.”\n",
      "     \n",
      "            Trump over the years has repeatedly questioned the biographies of his rivals, often without merit. He was one of the loudest voices in the debunked “birther” movement that falsely questioned Barack Obama’s citizenship and eligibility for the White House, eventually leading the Hawaiian-born president to release his long-form birth certificate. During the 2016 Republican primary, Trump pushed an unfounded conspiracy theory that Sen. Ted Cruz’s father aided in the assassination of President John F. Kennedy. This election cycle, Trump wrongly suggested his Republican primary opponent, former South Carolina Gov. Nikki Haley, wasn’t a natural-born US citizen and falsely claimed that Harris has only lately embraced her Black heritage.\n",
      "     \n",
      "            Yet, even as he lobbed these accusations, Trump littered his own personal story with exaggerations and fabrications. He coined the phrase “truthful hyperbole” in his best-selling autobiography “The Art of the Deal,” an oxymoronic term that nevertheless illustrates his relationship with facts about himself.\n",
      "     \n",
      "            “It’s an innocent form of exaggeration,” he wrote, “and a very effective form of promotion.”\n",
      "     \n",
      "            During a 2007 deposition, lawyers caught Trump lying at least 30 times over two days, mostly over mundane facts about his businesses such as the size of his workforce, a payment for speaking fees and the cost of his golf membership. He also once claimed that he stood on the rubble at ground zero after the 9/11 terrorist attacks and that he paid his workers to clear away the debris, neither of which is backed by public record.\n",
      "     \n",
      "            And there are multiple accounts of Trump calling reporters under the alias “John Barron,” a supposed executive at his company who once duped a Forbes reporter into inflating Trump’s fortune on the magazine’s list of wealthiest people.\n",
      "     \n",
      "            It’s unclear why Trump has latched on to Harris’ McDonald’s employment or why a visit there was warranted during one of his few remaining weekends before Election Day. But in recent interviews, Trump has suggested that a small detail about his rival’s past shouldn’t be dismissed.\n",
      "     \n",
      "            “We would say, well, that’s not a big lie. It’s a huge lie,” Trump said, “because McDonald’s was part of her whole thing.”\n",
      "     \n",
      "            Trump also visited a McDonald’s early in his presidential campaign, this one in East Palestine, Ohio, after a train carrying hazardous materials derailed there, sparking an environmental and public health crisis. There, he joked to a woman working the register, “I know this menu better than you do. I probably know it better than anybody in here.”\n",
      "     \n",
      "            The former president has long stated his affinity for fast food. During a 2016 CNN town hall, Trump, a self-described “very clean person,” attributed his preference for their offerings to the quality control, saying, “You’re better off going there than someplace you have no idea where the food is coming from.”\n",
      "     \n",
      "            “I think the food is good. I think all of those places, Burger King, McDonald’s, I can live with it,” he added. “The other night I had Kentucky Fried Chicken. Not the worst thing in the world.”\n",
      "     \n",
      "            Trump brought that affection into the White House, where he once served Clemson’s national championship football team a smorgasbord of burgers and pizza. His son-in-law Jared Kushner quipped in his autobiography that he knew Trump had turned the corner in his battle with the coronavirus when he requested his favorite McDonald’s order.\n",
      "     \n",
      "            “McDonald’s Big Mac, Filet-O-Fish, fries and a vanilla shake,” Kushner recounted.\n",
      "     \n",
      "            In an appearance last week on Fox News, Donald Trump Jr. bemoaned that the network in its interview with Harris didn’t ask her which McDonald’s she worked at. He also asserted that his father’s familiarity with the chain’s offerings would surpass the Democratic nominee’s.\n",
      "     \n",
      "            “I think my father knows the McDonald’s menu much better than Kamala Harris ever did,” Trump Jr. said.\n",
      "     \n",
      "This story has been updated with additional developments.\n",
      "\n"
     ]
    }
   ],
   "source": [
    "print(data['article'])"
   ]
  },
  {
   "cell_type": "code",
   "execution_count": 5,
   "metadata": {},
   "outputs": [],
   "source": [
    "input_text = data['article']"
   ]
  },
  {
   "cell_type": "code",
   "execution_count": 6,
   "metadata": {},
   "outputs": [
    {
     "ename": "ModuleNotFoundError",
     "evalue": "No module named 'transformers'",
     "output_type": "error",
     "traceback": [
      "\u001b[1;31m---------------------------------------------------------------------------\u001b[0m",
      "\u001b[1;31mModuleNotFoundError\u001b[0m                       Traceback (most recent call last)",
      "Cell \u001b[1;32mIn[6], line 1\u001b[0m\n\u001b[1;32m----> 1\u001b[0m \u001b[38;5;28;01mfrom\u001b[39;00m \u001b[38;5;21;01mtransformers\u001b[39;00m \u001b[38;5;28;01mimport\u001b[39;00m pipeline\n\u001b[0;32m      3\u001b[0m pipe \u001b[38;5;241m=\u001b[39m pipeline(\u001b[38;5;124m'\u001b[39m\u001b[38;5;124msummarization\u001b[39m\u001b[38;5;124m'\u001b[39m, model \u001b[38;5;241m=\u001b[39m \u001b[38;5;124m'\u001b[39m\u001b[38;5;124mfacebook/bart-large-cnn\u001b[39m\u001b[38;5;124m'\u001b[39m)\n",
      "\u001b[1;31mModuleNotFoundError\u001b[0m: No module named 'transformers'"
     ]
    }
   ],
   "source": [
    "from transformers import pipeline\n",
    "\n",
    "pipe = pipeline('summarization', model = 'facebook/bart-large-cnn')"
   ]
  }
 ],
 "metadata": {
  "kernelspec": {
   "display_name": "Python 3",
   "language": "python",
   "name": "python3"
  },
  "language_info": {
   "codemirror_mode": {
    "name": "ipython",
    "version": 3
   },
   "file_extension": ".py",
   "mimetype": "text/x-python",
   "name": "python",
   "nbconvert_exporter": "python",
   "pygments_lexer": "ipython3",
   "version": "3.11.9"
  }
 },
 "nbformat": 4,
 "nbformat_minor": 2
}
